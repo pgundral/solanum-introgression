{
 "cells": [
  {
   "cell_type": "markdown",
   "id": "203e580f",
   "metadata": {},
   "source": [
    "# _Solanum sp._ Chromosomes 1, 7, and ASR locus (chr. 4)\n",
    "\n",
    "## Introduction\n",
    "\n",
    "_Solanum_ is a large genus of over 1200 species of flowering plants in the nightshade family _Solanaceae_. This includes many economically important species like tomatoes (_S. lycospericum_), eggplant (_S. melongena_), and potatoes (_S. tuberosum_). The phylogeny is complex, but mostly contains two larger clades ([Messeder et. al.](https://doi.org/10.1111/nph.19849)), of which Clade I contains tomatoes (informally, section _Lycopersicon_). \n",
    "\n",
    "![tomato phylogeny](data/tomato_clades_messeder.png)\n",
    "\n",
    "Moderm tomatoes are mostly varieites of _S. lycospericum_, but wild species and wild-crop hybrids grow readily in warm regions of the Americas. It is proposed that _S. pimpinellifolium_ may be a wild ancestor of modern tomatoes, and may have contributed a significant portion of genetic material to _S. lycospericum_. However, more recent admixture has occured, either naturally by intentional breeding, that has conferred traits like disease resistance into moderm varieties ([Menda et. al.](https://doi.org/10.1186/s12870-014-0287-2))\n",
    "\n",
    "Here, I propose an analysis on chromosomes 1 and 7 of the tomato genome to detect introgressive and selective signals, particularly at loci connected to drought tolerance (below):\n",
    "\n",
    "- __Chromosome 1__ (SlAREB1, PRXIIF, SAP5, REF4-1, LCD, CCD1, SCS)\n",
    "- __Chromosome 7__ (Sec14-like PITP, AHG2, PRXQ, CFS1)\n",
    "- __ASR locus (Chromosome 4)__ (ASR1 and ASR4)\n",
    "\n",
    "## Methods\n",
    "\n",
    "This analysis will leverage SNP data from the __Sol Genomics Network__'s [\"varitome project\"](https://solgenomics.sgn.cornell.edu/projects/varitome). First we will convert vcf files to hdf5, extract relevant samples, and perform PCA, nucleotide diversity, pairwise Fst, and D+ tests."
   ]
  },
  {
   "cell_type": "markdown",
   "id": "f96f9d47",
   "metadata": {
    "vscode": {
     "languageId": "plaintext"
    }
   },
   "source": [
    "#### __Step 1:__ Data `.vcf` to `.h5` processing"
   ]
  },
  {
   "cell_type": "code",
   "execution_count": null,
   "id": "19507b98",
   "metadata": {},
   "outputs": [],
   "source": []
  }
 ],
 "metadata": {
  "language_info": {
   "name": "python"
  }
 },
 "nbformat": 4,
 "nbformat_minor": 5
}
